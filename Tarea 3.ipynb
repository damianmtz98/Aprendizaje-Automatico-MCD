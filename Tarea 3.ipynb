{
  "nbformat": 4,
  "nbformat_minor": 0,
  "metadata": {
    "colab": {
      "provenance": [],
      "authorship_tag": "ABX9TyPOJadLIfIrLPdUColH7D9W",
      "include_colab_link": true
    },
    "kernelspec": {
      "name": "python3",
      "display_name": "Python 3"
    },
    "language_info": {
      "name": "python"
    }
  },
  "cells": [
    {
      "cell_type": "markdown",
      "metadata": {
        "id": "view-in-github",
        "colab_type": "text"
      },
      "source": [
        "<a href=\"https://colab.research.google.com/github/damianmtz98/Aprendizaje-Automatico-MCD/blob/main/Tarea%203.ipynb\" target=\"_parent\"><img src=\"https://colab.research.google.com/assets/colab-badge.svg\" alt=\"Open In Colab\"/></a>"
      ]
    },
    {
      "cell_type": "markdown",
      "source": [
        "# **Tarea 3**\n",
        "\n",
        "\n",
        "*   Crear funciones para calcular las medidas de tendencia central y de \n",
        "dispersión con Python puro (sin librerías)\n",
        "*   Comprueba si tus variables de interés son conjuntos de datos paramétricos o no paramétricos\n",
        "\n",
        "\n"
      ],
      "metadata": {
        "id": "SnQhUPUnztXV"
      }
    },
    {
      "cell_type": "code",
      "source": [
        "import pandas as pd\n",
        "hpdata = pd.read_csv(\"heart_prediction.csv\")\n",
        "var1 = hpdata[\"Age\"]\n",
        "vec1 = var1.values"
      ],
      "metadata": {
        "id": "DVNSuUawzn5P"
      },
      "execution_count": 3,
      "outputs": []
    },
    {
      "cell_type": "markdown",
      "source": [
        "### ***Media de la Edad \"Age\"***"
      ],
      "metadata": {
        "id": "hW2wE61N2SlG"
      }
    },
    {
      "cell_type": "code",
      "source": [
        "sum = 0\n",
        "for i in vec1:\n",
        "    sum += i\n",
        "media = sum / len(vec1)\n",
        "print(media)"
      ],
      "metadata": {
        "colab": {
          "base_uri": "https://localhost:8080/"
        },
        "id": "rEmq-V_l24y4",
        "outputId": "edf2ff37-7d6e-4863-ab56-43b99150e302"
      },
      "execution_count": 4,
      "outputs": [
        {
          "output_type": "stream",
          "name": "stdout",
          "text": [
            "54.43333333333333\n"
          ]
        }
      ]
    },
    {
      "cell_type": "markdown",
      "source": [
        "### ***Mediana de la frecuencia cardaica  \"Max HR\"***"
      ],
      "metadata": {
        "id": "U6zkyDL23g-T"
      }
    },
    {
      "cell_type": "code",
      "source": [
        "var2 = hpdata[\"Max HR\"]\n",
        "vec2 = var2.values\n",
        "vec2.sort()\n",
        "n = len(vec2) # el tamaño de la prueba es n\n",
        "if n % 2 == 0:\n",
        "    mediana = (vec2[n // 2] + vec2[n // 2 - 1]) / 2\n",
        "else:\n",
        "    mediana = vect2[n // 2]\n",
        "print(mediana)"
      ],
      "metadata": {
        "colab": {
          "base_uri": "https://localhost:8080/"
        },
        "id": "7AlzdL6V38Kt",
        "outputId": "d82fcfbd-f792-4699-d8cd-514d30b3af08"
      },
      "execution_count": 5,
      "outputs": [
        {
          "output_type": "stream",
          "name": "stdout",
          "text": [
            "153.5\n"
          ]
        }
      ]
    },
    {
      "cell_type": "markdown",
      "source": [
        "### ***Moda de la prueba de la presion arterial \"BP\"***\n"
      ],
      "metadata": {
        "id": "GlW7BI054q7G"
      }
    },
    {
      "cell_type": "code",
      "source": [
        "var3 = hpdata[\"BP\"]\n",
        "vec3 = var3.values\n",
        "freq = {} # tenemos que abrir una libreria nueva para la frecuencia \n",
        "for j in vec3:\n",
        "    if j in freq:\n",
        "        freq[j] += 1\n",
        "    else:\n",
        "        freq[j] = 1\n",
        "moda = max(freq, key=freq.get)\n",
        "print(moda)\n"
      ],
      "metadata": {
        "colab": {
          "base_uri": "https://localhost:8080/"
        },
        "id": "_ZRzTVBI6sct",
        "outputId": "8a10d578-e4c1-4e59-d000-680afd42a28b"
      },
      "execution_count": 9,
      "outputs": [
        {
          "output_type": "stream",
          "name": "stdout",
          "text": [
            "120\n"
          ]
        }
      ]
    },
    {
      "cell_type": "markdown",
      "source": [
        "### ***Test de la normalidad de la edad \"Age\"***"
      ],
      "metadata": {
        "id": "aWuX_mI77yRc"
      }
    },
    {
      "cell_type": "code",
      "source": [
        "from scipy.stats import shapiro   # Prueba Shapiro-Wilk\n",
        "w, p = shapiro(vec1)\n",
        "alpha = 0.05  # Nivel de significancia del 5%\n",
        "if p > alpha:\n",
        "    print(\"Con un nivel de significancia del 95% concluimos que los datos siguen una distribucion normal\")\n",
        "else:\n",
        "    print(\"Con un nivel de significancia del 95% concluimos que los datos NO siguen una distribucion normal\")"
      ],
      "metadata": {
        "colab": {
          "base_uri": "https://localhost:8080/"
        },
        "id": "ObWCalN083_b",
        "outputId": "ad5b35ba-c945-4d59-942a-49692782b659"
      },
      "execution_count": 10,
      "outputs": [
        {
          "output_type": "stream",
          "name": "stdout",
          "text": [
            "Con un nivel de significancia del 95% concluimos que los datos NO siguen una distribucion normal\n"
          ]
        }
      ]
    },
    {
      "cell_type": "code",
      "source": [
        "import matplotlib.pyplot as plt\n",
        "plt.hist(vec1)\n",
        "plt.title(\"Histograma de la edad \") # Titulo\n",
        "plt.xlabel(\"Edad\") #Eje x\n",
        "plt.ylabel(\"Frecuencia\") # Eje y\n",
        "plt.show()\n"
      ],
      "metadata": {
        "colab": {
          "base_uri": "https://localhost:8080/",
          "height": 295
        },
        "id": "KGBSePEG-ukG",
        "outputId": "6e7a0064-90f6-4a47-e95d-2c176839dce2"
      },
      "execution_count": 11,
      "outputs": [
        {
          "output_type": "display_data",
          "data": {
            "text/plain": [
              "<Figure size 432x288 with 1 Axes>"
            ],
            "image/png": "[encoded data removed]"
          },
          "metadata": {
            "needs_background": "light"
          }
        }
      ]
    },
    {
      "cell_type": "markdown",
      "source": [
        "*A manera de conjetura podemos decir que es una distribucion normal.*"
      ],
      "metadata": {
        "id": "OZ3QtAqH_frk"
      }
    },
    {
      "cell_type": "markdown",
      "source": [
        "### ***Test de la normalidad de la frecuencia cardiaca \"Max HR\"***"
      ],
      "metadata": {
        "id": "wlgb1aBdBN6b"
      }
    },
    {
      "cell_type": "code",
      "source": [
        "from scipy.stats import shapiro   # Prueba Shapiro-Wilk\n",
        "w, p = shapiro(vec2)\n",
        "alpha = 0.05  # Nivel de significancia del 5%\n",
        "if p > alpha:\n",
        "    print(\"Con un nivel de significancia del 95% concluimos que los datos siguen una distribucion normal\")\n",
        "else:\n",
        "    print(\"Con un nivel de significancia del 95% concluimos que los datos NO siguen una distribucion normal\")"
      ],
      "metadata": {
        "colab": {
          "base_uri": "https://localhost:8080/"
        },
        "id": "PFExg3glBaH3",
        "outputId": "788e5014-2f71-4734-c0c9-049ab9767ad1"
      },
      "execution_count": 12,
      "outputs": [
        {
          "output_type": "stream",
          "name": "stdout",
          "text": [
            "Con un nivel de significancia del 95% concluimos que los datos NO siguen una distribucion normal\n"
          ]
        }
      ]
    },
    {
      "cell_type": "code",
      "source": [
        "import matplotlib.pyplot as plt\n",
        "plt.hist(vec2)\n",
        "plt.title(\"Histograma de la Frecuencia cardiaca \") # Titulo\n",
        "plt.xlabel(\"HR\") #Eje x\n",
        "plt.ylabel(\"Frecuencia\") # Eje y\n",
        "plt.show()"
      ],
      "metadata": {
        "colab": {
          "base_uri": "https://localhost:8080/",
          "height": 295
        },
        "id": "pXjMBkSQBqKW",
        "outputId": "346431ed-4271-4145-caac-ebbf00ffbc67"
      },
      "execution_count": 14,
      "outputs": [
        {
          "output_type": "display_data",
          "data": {
            "text/plain": [
              "<Figure size 432x288 with 1 Axes>"
            ],
            "image/png": "[encoded data removed]"
          },
          "metadata": {
            "needs_background": "light"
          }
        }
      ]
    },
    {
      "cell_type": "markdown",
      "source": [
        "*A manera de conjetura podemos decir que es una distribucion normal.*"
      ],
      "metadata": {
        "id": "dL84GhlXCCQ6"
      }
    },
    {
      "cell_type": "markdown",
      "source": [
        "# **Estadisticos descriptivos de nuestros datos.**"
      ],
      "metadata": {
        "id": "oPQP-ZhgCIXI"
      }
    },
    {
      "cell_type": "code",
      "source": [
        "import pandas as pd\n",
        "hpdata = pd.read_csv(\"heart_prediction.csv\")\n",
        "from IPython.display import Markdown"
      ],
      "metadata": {
        "id": "RkicBAbwCbLZ"
      },
      "execution_count": 21,
      "outputs": []
    },
    {
      "cell_type": "code",
      "source": [
        "# Estadisticos descriptivos de la edad \"Age\"\n",
        "media_age = hpdata[\"Age\"].mean()\n",
        "mediana_age = hpdata[\"Age\"].median()\n",
        "moda_age = hpdata[\"Age\"].mode()\n",
        "std_age = hpdata[\"Age\"].std()\n",
        "\n",
        "# Imprimir  \n",
        "print(\"Media:\",round(media_age,2))\n",
        "print(\"Mediana:\", round(mediana_age,2))\n",
        "print(\"Moda:\", round(moda_age,2))\n",
        "print(\"Desviacion estandar:\", round(std_age,2))\n",
        "     "
      ],
      "metadata": {
        "colab": {
          "base_uri": "https://localhost:8080/"
        },
        "id": "l9VgOjpOCvbT",
        "outputId": "072bb8ca-25fe-46af-d205-5ab85f6f7569"
      },
      "execution_count": 25,
      "outputs": [
        {
          "output_type": "stream",
          "name": "stdout",
          "text": [
            "Media: 54.43\n",
            "Mediana: 55.0\n",
            "Moda: 0    54\n",
            "dtype: int64\n",
            "Desviacion estandar: 9.11\n"
          ]
        }
      ]
    },
    {
      "cell_type": "code",
      "source": [
        "# Estadisticos descriptivos de la frecuencia cardiaca \"Max HR\"\n",
        "media_hr = hpdata[\"Max HR\"].mean()\n",
        "mediana_hr = hpdata[\"Max HR\"].median()\n",
        "moda_hr = hpdata[\"Max HR\"].mode()\n",
        "std_hr = hpdata[\"Max HR\"].std()\n",
        "\n",
        "# Imprimir  \n",
        "print(\"Media:\",round(media_hr,2))\n",
        "print(\"Mediana:\", round(mediana_hr,2))\n",
        "print(\"Moda:\", round(moda_hr,2))\n",
        "print(\"Desviacion estandar:\", round(std_hr,2))"
      ],
      "metadata": {
        "colab": {
          "base_uri": "https://localhost:8080/"
        },
        "id": "EkF38fSFTmXK",
        "outputId": "1472915d-a62f-4066-9b8f-67c03d449f51"
      },
      "execution_count": 26,
      "outputs": [
        {
          "output_type": "stream",
          "name": "stdout",
          "text": [
            "Media: 149.68\n",
            "Mediana: 153.5\n",
            "Moda: 0    162\n",
            "dtype: int64\n",
            "Desviacion estandar: 23.17\n"
          ]
        }
      ]
    },
    {
      "cell_type": "code",
      "source": [
        "# Estadisticos descriptivos de la prueba de la presion arterial \"BP\"\n",
        "media_bp = hpdata[\"BP\"].mean()\n",
        "mediana_bp = hpdata[\"BP\"].median()\n",
        "moda_bp = hpdata[\"BP\"].mode()\n",
        "std_bp = hpdata[\"BP\"].std()\n",
        "\n",
        "# Imprimir  \n",
        "print(\"Media:\",round(media_bp,2))\n",
        "print(\"Mediana:\", round(mediana_bp,2))\n",
        "print(\"Moda:\", round(moda_bp,2))\n",
        "print(\"Desviacion estandar:\", round(std_bp,2))"
      ],
      "metadata": {
        "colab": {
          "base_uri": "https://localhost:8080/"
        },
        "id": "6jzdQzRcTmaj",
        "outputId": "6827a7ef-b67d-41b4-a6e2-df2be9d3cf0d"
      },
      "execution_count": 28,
      "outputs": [
        {
          "output_type": "stream",
          "name": "stdout",
          "text": [
            "Media: 131.34\n",
            "Mediana: 130.0\n",
            "Moda: 0    120\n",
            "dtype: int64\n",
            "Desviacion estandar: 17.86\n"
          ]
        }
      ]
    },
    {
      "cell_type": "code",
      "source": [
        "# Estadisticos descriptivos del nivel de colesterol \"Cholesterol\"\n",
        "media_ch = hpdata[\"Cholesterol\"].mean()\n",
        "mediana_ch = hpdata[\"Cholesterol\"].median()\n",
        "moda_ch = hpdata[\"Cholesterol\"].mode()\n",
        "std_ch = hpdata[\"Cholesterol\"].std()\n",
        "\n",
        "# Imprimir  \n",
        "print(\"Media:\",round(media_ch,2))\n",
        "print(\"Mediana:\", round(mediana_ch,2))\n",
        "print(\"Moda:\", round(moda_ch,2))\n",
        "print(\"Desviacion estandar:\", round(std_ch,2))"
      ],
      "metadata": {
        "colab": {
          "base_uri": "https://localhost:8080/"
        },
        "id": "7OtXkHZLTmd9",
        "outputId": "cb985fed-94d9-4412-e84c-674d27ac592e"
      },
      "execution_count": 29,
      "outputs": [
        {
          "output_type": "stream",
          "name": "stdout",
          "text": [
            "Media: 249.66\n",
            "Mediana: 245.0\n",
            "Moda: 0    234\n",
            "dtype: int64\n",
            "Desviacion estandar: 51.69\n"
          ]
        }
      ]
    },
    {
      "cell_type": "markdown",
      "source": [
        "### ***Matriz de correlacion de nuestras variables***"
      ],
      "metadata": {
        "id": "crSzeWZqVjjf"
      }
    },
    {
      "cell_type": "code",
      "source": [
        "corr = hpdata[[\"Age\", \"Max HR\", \"BP\", \"Cholesterol\"]].corr()\n",
        "print(corr)"
      ],
      "metadata": {
        "colab": {
          "base_uri": "https://localhost:8080/"
        },
        "id": "Z2mF36zIWpOK",
        "outputId": "1e472972-6406-48b2-8eb8-bebc3b9813e1"
      },
      "execution_count": 40,
      "outputs": [
        {
          "output_type": "stream",
          "name": "stdout",
          "text": [
            "                  Age    Max HR        BP  Cholesterol\n",
            "Age          1.000000 -0.402215  0.273053     0.220056\n",
            "Max HR      -0.402215  1.000000 -0.039136    -0.018739\n",
            "BP           0.273053 -0.039136  1.000000     0.173019\n",
            "Cholesterol  0.220056 -0.018739  0.173019     1.000000\n"
          ]
        }
      ]
    },
    {
      "cell_type": "markdown",
      "source": [
        "*   *Podemos decir que la correlacion de nuestras variables edad (Age) y frecuencia cardiaca (Max HR) tienen una tendencia negativa moderada.*\n",
        "*   *Edad (Age) y la presion arterial (BP) tienen una correlacion positiva debil.*\n",
        "\n"
      ],
      "metadata": {
        "id": "eaKpkdUbX6WB"
      }
    }
  ]
}