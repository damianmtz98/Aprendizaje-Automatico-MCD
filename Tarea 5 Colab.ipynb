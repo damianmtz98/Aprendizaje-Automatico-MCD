{
  "nbformat": 4,
  "nbformat_minor": 0,
  "metadata": {
    "colab": {
      "provenance": [],
      "authorship_tag": "ABX9TyPHRCFqDYR/lrt4y+27BSIK",
      "include_colab_link": true
    },
    "kernelspec": {
      "name": "python3",
      "display_name": "Python 3"
    },
    "language_info": {
      "name": "python"
    }
  },
  "cells": [
    {
      "cell_type": "markdown",
      "metadata": {
        "id": "view-in-github",
        "colab_type": "text"
      },
      "source": [
        "<a href=\"https://colab.research.google.com/github/damianmtz98/Aprendizaje-Automatico-MCD/blob/main/Tarea%205%20Colab.ipynb\" target=\"_parent\"><img src=\"https://colab.research.google.com/assets/colab-badge.svg\" alt=\"Open In Colab\"/></a>"
      ]
    },
    {
      "cell_type": "markdown",
      "source": [
        "# **Tarea en clase (2 puntos)**\n",
        "* Investigar sobre algún otro algoritmo no supervisado que pueda usarse en tu código. Da un panorama sobre el modelo matemático que emplea y explica por qué conviene aplicarlo a tus datos. Algunos modelos que no se vieron en clase son Affinity Propagation, BIRCH, DBSCAN, Mean Shift, Nearest Neighbors, OPTICS, Spectral Clustering, TSNE, entre otros\n",
        "\n",
        "* Investigar otras estrategias para determinar número de grupos en estos algoritmos (como los índices de Calinski-Harabasz o de Davies-Bouldin), elegir la más adecuada al método que elegiste\n",
        "# **Tarea (8 puntos)**\n",
        "* Aplicar al menos un algoritmo no supervisado a tus datos para encontrar estructuras subyacentes\n",
        "* Elegir alguna métrica para determinar número de grupos, usarla y discutirla\n",
        "* Busca alguna revista científica que publique trabajos relacionados con el tuyo\n",
        "* Crea artículo mediante Latex con base en los lineamientos de la revista elegida y redacta ahí tus resultados, discusiones y bibliografía\n",
        "* Sube el código de tu tarea, los archivos de Latex y el PDF del artículo en tu repositorio, claramente diferenciados"
      ],
      "metadata": {
        "id": "Al2l74sWYlVr"
      }
    },
    {
      "cell_type": "markdown",
      "source": [
        "# **DBSCAN (Density-Based Spatial Clustering of Applications with Noise)**\n",
        "\n",
        "Es un algoritmo de agrupamiento no paramétrico utilizado en el aprendizaje automático y la minería de datos para encontrar grupos o \"clústeres\" en un conjunto de datos. A diferencia de algunos algoritmos de agrupamiento, como K-means, DBSCAN no requiere que se especifique el número de clústeres de antemano y puede detectar clústeres de formas arbitrarias.\n",
        "\n",
        "DBSCAN se basa en la densidad de los puntos de datos para agruparlos en clústeres. El algoritmo define dos parámetros principales: el \"radio\" y el \"número mínimo de puntos\" (minPts). El radio determina el tamaño del vecindario de cada punto de datos y el minPts establece el número mínimo de puntos de datos necesarios para formar un clúster.\n",
        "\n",
        "El proceso de DBSCAN comienza con la selección de un punto de datos aleatorios y la identificación de todos los puntos de datos que se encuentran dentro del vecindario del radio. Si el número de puntos de datos en el vecindario es igual o mayor al minPts, entonces se considera un clúster y se agregan todos los puntos de datos del vecindario al clúster. Si el número de puntos de datos en el vecindario es menor que el minPts, entonces el punto de datos se considera un \"ruido\" y se ignora.\n",
        "\n",
        "El proceso se repite para cada punto de datos dentro de un clúster y se continúa hasta que se han identificado todos los clústeres posibles."
      ],
      "metadata": {
        "id": "t-TktC1KZ0SE"
      }
    },
    {
      "cell_type": "markdown",
      "source": [],
      "metadata": {
        "id": "WmYK6hyLgm82"
      }
    },
    {
      "cell_type": "code",
      "source": [
        "import numpy as np \n",
        "import pandas as pd \n",
        "import matplotlib.pyplot as plt\n",
        "import seaborn as sns \n",
        "import warnings\n",
        "warnings.filterwarnings('ignore')"
      ],
      "metadata": {
        "id": "kiFih07aZokn"
      },
      "execution_count": 87,
      "outputs": []
    },
    {
      "cell_type": "code",
      "source": [
        "df = pd.read_csv(\"heart_prediction.csv\")\n",
        "# Utilizamos las variables que son mas relevantes segun la tarea 4.\n",
        "df = df[['Chest pain type', 'Sex', 'Cholesterol', 'Exercise angina', 'Max HR', 'Age', 'Cardiopatia']]\n",
        "df.head"
      ],
      "metadata": {
        "colab": {
          "base_uri": "https://localhost:8080/"
        },
        "id": "XBax9wqgg3UV",
        "outputId": "f5fd605e-5ca1-462e-a445-2c90897a2b44"
      },
      "execution_count": 88,
      "outputs": [
        {
          "output_type": "execute_result",
          "data": {
            "text/plain": [
              "<bound method NDFrame.head of      Chest pain type  Sex  Cholesterol  Exercise angina  Max HR  Age  \\\n",
              "0                  4    1          322                0     109   70   \n",
              "1                  3    0          564                0     160   67   \n",
              "2                  2    1          261                0     141   57   \n",
              "3                  4    1          263                1     105   64   \n",
              "4                  2    0          269                1     121   74   \n",
              "..               ...  ...          ...              ...     ...  ...   \n",
              "265                3    1          199                0     162   52   \n",
              "266                2    1          263                0     173   44   \n",
              "267                2    0          294                0     153   56   \n",
              "268                4    1          192                0     148   57   \n",
              "269                4    1          286                1     108   67   \n",
              "\n",
              "     Cardiopatia  \n",
              "0              0  \n",
              "1              1  \n",
              "2              0  \n",
              "3              1  \n",
              "4              1  \n",
              "..           ...  \n",
              "265            1  \n",
              "266            1  \n",
              "267            1  \n",
              "268            1  \n",
              "269            0  \n",
              "\n",
              "[270 rows x 7 columns]>"
            ]
          },
          "metadata": {},
          "execution_count": 88
        }
      ]
    },
    {
      "cell_type": "code",
      "source": [
        "X = df\n",
        "y = df['Cardiopatia']"
      ],
      "metadata": {
        "id": "SpHpQkBaikzx"
      },
      "execution_count": 89,
      "outputs": []
    },
    {
      "cell_type": "code",
      "source": [
        "cols = df.columns\n",
        "from sklearn.preprocessing import MinMaxScaler\n",
        "ms = MinMaxScaler()\n",
        "df = ms.fit_transform(df)"
      ],
      "metadata": {
        "id": "UFhmxSzRipKN"
      },
      "execution_count": 90,
      "outputs": []
    },
    {
      "cell_type": "code",
      "source": [
        "X = pd.DataFrame(df, columns=[cols])\n",
        "X.head()"
      ],
      "metadata": {
        "colab": {
          "base_uri": "https://localhost:8080/",
          "height": 206
        },
        "id": "XWslb268i-Ch",
        "outputId": "cd1a5b5a-9fcf-42cf-d6db-9df5b819d384"
      },
      "execution_count": 91,
      "outputs": [
        {
          "output_type": "execute_result",
          "data": {
            "text/plain": [
              "  Chest pain type  Sex Cholesterol Exercise angina    Max HR       Age  \\\n",
              "0        1.000000  1.0    0.447489             0.0  0.290076  0.854167   \n",
              "1        0.666667  0.0    1.000000             0.0  0.679389  0.791667   \n",
              "2        0.333333  1.0    0.308219             0.0  0.534351  0.583333   \n",
              "3        1.000000  1.0    0.312785             1.0  0.259542  0.729167   \n",
              "4        0.333333  0.0    0.326484             1.0  0.381679  0.937500   \n",
              "\n",
              "  Cardiopatia  \n",
              "0         0.0  \n",
              "1         1.0  \n",
              "2         0.0  \n",
              "3         1.0  \n",
              "4         1.0  "
            ],
            "text/html": [
              "\n",
              "  <div id=\"df-9eea87e4-bfff-4350-a979-29c82b0f6697\">\n",
              "    <div class=\"colab-df-container\">\n",
              "      <div>\n",
              "<style scoped>\n",
              "    .dataframe tbody tr th:only-of-type {\n",
              "        vertical-align: middle;\n",
              "    }\n",
              "\n",
              "    .dataframe tbody tr th {\n",
              "        vertical-align: top;\n",
              "    }\n",
              "\n",
              "    .dataframe thead tr th {\n",
              "        text-align: left;\n",
              "    }\n",
              "</style>\n",
              "<table border=\"1\" class=\"dataframe\">\n",
              "  <thead>\n",
              "    <tr>\n",
              "      <th></th>\n",
              "      <th>Chest pain type</th>\n",
              "      <th>Sex</th>\n",
              "      <th>Cholesterol</th>\n",
              "      <th>Exercise angina</th>\n",
              "      <th>Max HR</th>\n",
              "      <th>Age</th>\n",
              "      <th>Cardiopatia</th>\n",
              "    </tr>\n",
              "  </thead>\n",
              "  <tbody>\n",
              "    <tr>\n",
              "      <th>0</th>\n",
              "      <td>1.000000</td>\n",
              "      <td>1.0</td>\n",
              "      <td>0.447489</td>\n",
              "      <td>0.0</td>\n",
              "      <td>0.290076</td>\n",
              "      <td>0.854167</td>\n",
              "      <td>0.0</td>\n",
              "    </tr>\n",
              "    <tr>\n",
              "      <th>1</th>\n",
              "      <td>0.666667</td>\n",
              "      <td>0.0</td>\n",
              "      <td>1.000000</td>\n",
              "      <td>0.0</td>\n",
              "      <td>0.679389</td>\n",
              "      <td>0.791667</td>\n",
              "      <td>1.0</td>\n",
              "    </tr>\n",
              "    <tr>\n",
              "      <th>2</th>\n",
              "      <td>0.333333</td>\n",
              "      <td>1.0</td>\n",
              "      <td>0.308219</td>\n",
              "      <td>0.0</td>\n",
              "      <td>0.534351</td>\n",
              "      <td>0.583333</td>\n",
              "      <td>0.0</td>\n",
              "    </tr>\n",
              "    <tr>\n",
              "      <th>3</th>\n",
              "      <td>1.000000</td>\n",
              "      <td>1.0</td>\n",
              "      <td>0.312785</td>\n",
              "      <td>1.0</td>\n",
              "      <td>0.259542</td>\n",
              "      <td>0.729167</td>\n",
              "      <td>1.0</td>\n",
              "    </tr>\n",
              "    <tr>\n",
              "      <th>4</th>\n",
              "      <td>0.333333</td>\n",
              "      <td>0.0</td>\n",
              "      <td>0.326484</td>\n",
              "      <td>1.0</td>\n",
              "      <td>0.381679</td>\n",
              "      <td>0.937500</td>\n",
              "      <td>1.0</td>\n",
              "    </tr>\n",
              "  </tbody>\n",
              "</table>\n",
              "</div>\n",
              "      <button class=\"colab-df-convert\" onclick=\"convertToInteractive('df-9eea87e4-bfff-4350-a979-29c82b0f6697')\"\n",
              "              title=\"Convert this dataframe to an interactive table.\"\n",
              "              style=\"display:none;\">\n",
              "        \n",
              "  <svg xmlns=\"http://www.w3.org/2000/svg\" height=\"24px\"viewBox=\"0 0 24 24\"\n",
              "       width=\"24px\">\n",
              "    <path d=\"M0 0h24v24H0V0z\" fill=\"none\"/>\n",
              "    <path d=\"M18.56 5.44l.94 2.06.94-2.06 2.06-.94-2.06-.94-.94-2.06-.94 2.06-2.06.94zm-11 1L8.5 8.5l.94-2.06 2.06-.94-2.06-.94L8.5 2.5l-.94 2.06-2.06.94zm10 10l.94 2.06.94-2.06 2.06-.94-2.06-.94-.94-2.06-.94 2.06-2.06.94z\"/><path d=\"M17.41 7.96l-1.37-1.37c-.4-.4-.92-.59-1.43-.59-.52 0-1.04.2-1.43.59L10.3 9.45l-7.72 7.72c-.78.78-.78 2.05 0 2.83L4 21.41c.39.39.9.59 1.41.59.51 0 1.02-.2 1.41-.59l7.78-7.78 2.81-2.81c.8-.78.8-2.07 0-2.86zM5.41 20L4 18.59l7.72-7.72 1.47 1.35L5.41 20z\"/>\n",
              "  </svg>\n",
              "      </button>\n",
              "      \n",
              "  <style>\n",
              "    .colab-df-container {\n",
              "      display:flex;\n",
              "      flex-wrap:wrap;\n",
              "      gap: 12px;\n",
              "    }\n",
              "\n",
              "    .colab-df-convert {\n",
              "      background-color: #E8F0FE;\n",
              "      border: none;\n",
              "      border-radius: 50%;\n",
              "      cursor: pointer;\n",
              "      display: none;\n",
              "      fill: #1967D2;\n",
              "      height: 32px;\n",
              "      padding: 0 0 0 0;\n",
              "      width: 32px;\n",
              "    }\n",
              "\n",
              "    .colab-df-convert:hover {\n",
              "      background-color: #E2EBFA;\n",
              "      box-shadow: 0px 1px 2px rgba(60, 64, 67, 0.3), 0px 1px 3px 1px rgba(60, 64, 67, 0.15);\n",
              "      fill: #174EA6;\n",
              "    }\n",
              "\n",
              "    [theme=dark] .colab-df-convert {\n",
              "      background-color: #3B4455;\n",
              "      fill: #D2E3FC;\n",
              "    }\n",
              "\n",
              "    [theme=dark] .colab-df-convert:hover {\n",
              "      background-color: #434B5C;\n",
              "      box-shadow: 0px 1px 3px 1px rgba(0, 0, 0, 0.15);\n",
              "      filter: drop-shadow(0px 1px 2px rgba(0, 0, 0, 0.3));\n",
              "      fill: #FFFFFF;\n",
              "    }\n",
              "  </style>\n",
              "\n",
              "      <script>\n",
              "        const buttonEl =\n",
              "          document.querySelector('#df-9eea87e4-bfff-4350-a979-29c82b0f6697 button.colab-df-convert');\n",
              "        buttonEl.style.display =\n",
              "          google.colab.kernel.accessAllowed ? 'block' : 'none';\n",
              "\n",
              "        async function convertToInteractive(key) {\n",
              "          const element = document.querySelector('#df-9eea87e4-bfff-4350-a979-29c82b0f6697');\n",
              "          const dataTable =\n",
              "            await google.colab.kernel.invokeFunction('convertToInteractive',\n",
              "                                                     [key], {});\n",
              "          if (!dataTable) return;\n",
              "\n",
              "          const docLinkHtml = 'Like what you see? Visit the ' +\n",
              "            '<a target=\"_blank\" href=https://colab.research.google.com/notebooks/data_table.ipynb>data table notebook</a>'\n",
              "            + ' to learn more about interactive tables.';\n",
              "          element.innerHTML = '';\n",
              "          dataTable['output_type'] = 'display_data';\n",
              "          await google.colab.output.renderOutput(dataTable, element);\n",
              "          const docLink = document.createElement('div');\n",
              "          docLink.innerHTML = docLinkHtml;\n",
              "          element.appendChild(docLink);\n",
              "        }\n",
              "      </script>\n",
              "    </div>\n",
              "  </div>\n",
              "  "
            ]
          },
          "metadata": {},
          "execution_count": 91
        }
      ]
    },
    {
      "cell_type": "markdown",
      "source": [
        "# **Metodo del Codo**\n"
      ],
      "metadata": {
        "id": "FJXYx5ByjPK8"
      }
    },
    {
      "cell_type": "code",
      "source": [
        "from sklearn.cluster import KMeans\n",
        "cs = []\n",
        "for i in range(1, 11):\n",
        "  kmeans = KMeans(n_clusters = i, init = 'k-means++', max_iter = 270, n_init = 10, random_state = 0)\n",
        "  kmeans.fit(X)\n",
        "  cs.append(kmeans.inertia_)"
      ],
      "metadata": {
        "id": "VnesmnIJjlV_"
      },
      "execution_count": 93,
      "outputs": []
    },
    {
      "cell_type": "code",
      "source": [
        "plt.plot(range(1, 11), cs)\n",
        "plt.title('Metodo del Codo')\n",
        "plt.xlabel('Numero de clusters')\n",
        "plt.ylabel('')\n",
        "plt.show()"
      ],
      "metadata": {
        "colab": {
          "base_uri": "https://localhost:8080/",
          "height": 295
        },
        "id": "GEQYJgSKA4q1",
        "outputId": "27685d6d-ad2d-4cc1-dac4-b28a05e2d87a"
      },
      "execution_count": 94,
      "outputs": [
        {
          "output_type": "display_data",
          "data": {
            "text/plain": [
              "<Figure size 432x288 with 1 Axes>"
            ],
            "image/png": "[encoded data removed]"
          },
          "metadata": {
            "needs_background": "light"
          }
        }
      ]
    },
    {
      "cell_type": "code",
      "source": [
        "# Analisis\n",
        "kmeans.cluster_centers_ "
      ],
      "metadata": {
        "colab": {
          "base_uri": "https://localhost:8080/"
        },
        "id": "o69cGXcjnWaB",
        "outputId": "249f6102-b816-4bf6-cef2-925b2caf0eca"
      },
      "execution_count": 70,
      "outputs": [
        {
          "output_type": "execute_result",
          "data": {
            "text/plain": [
              "array([[ 6.21468927e-01,  4.44089210e-16,  2.95604055e-01,\n",
              "         2.77555756e-16,  6.40703843e-01,  5.36370056e-01,\n",
              "         1.00000000e+00],\n",
              "       [ 9.63636364e-01,  1.00000000e+00,  2.93441262e-01,\n",
              "         1.00000000e+00,  4.45107564e-01,  5.75757576e-01,\n",
              "        -5.55111512e-16],\n",
              "       [ 2.34567901e-01,  1.00000000e+00,  2.60781329e-01,\n",
              "        -1.11022302e-16,  7.16426350e-01,  4.39814815e-01,\n",
              "         1.00000000e+00],\n",
              "       [ 8.85714286e-01,  1.00000000e+00,  2.55772994e-01,\n",
              "         1.11022302e-16,  5.76663032e-01,  5.43452381e-01,\n",
              "        -1.11022302e-16],\n",
              "       [ 1.00000000e+00, -2.22044605e-16,  3.89726027e-01,\n",
              "         1.00000000e+00,  5.68702290e-01,  5.87500000e-01,\n",
              "         1.11022302e-16],\n",
              "       [ 6.44444444e-01,  1.00000000e+00,  2.26027397e-01,\n",
              "         1.00000000e+00,  5.88804071e-01,  5.15277778e-01,\n",
              "         1.00000000e+00],\n",
              "       [ 7.50000000e-01, -1.11022302e-16,  3.28767123e-01,\n",
              "         1.00000000e+00,  6.34541985e-01,  5.07812500e-01,\n",
              "         1.00000000e+00],\n",
              "       [ 9.00000000e-01, -2.22044605e-16,  3.59132420e-01,\n",
              "         5.55111512e-17,  5.38167939e-01,  6.77083333e-01,\n",
              "         1.11022302e-16],\n",
              "       [ 1.66666667e-01,  1.00000000e+00,  3.16438356e-01,\n",
              "         1.00000000e-01,  6.42748092e-01,  5.64583333e-01,\n",
              "         0.00000000e+00],\n",
              "       [ 7.88617886e-01,  1.00000000e+00,  2.43456955e-01,\n",
              "         1.11022302e-16,  7.06013778e-01,  4.57825203e-01,\n",
              "         1.00000000e+00]])"
            ]
          },
          "metadata": {},
          "execution_count": 70
        }
      ]
    },
    {
      "cell_type": "code",
      "source": [
        "kmeans.inertia_"
      ],
      "metadata": {
        "colab": {
          "base_uri": "https://localhost:8080/"
        },
        "id": "jwHethywnlYY",
        "outputId": "467e7253-eb85-4baa-afcd-fd200d59a25c"
      },
      "execution_count": 71,
      "outputs": [
        {
          "output_type": "execute_result",
          "data": {
            "text/plain": [
              "30.58111419359993"
            ]
          },
          "metadata": {},
          "execution_count": 71
        }
      ]
    },
    {
      "cell_type": "code",
      "source": [
        "# Cluster = 1\n",
        "kmeans = KMeans(n_clusters=1, random_state=0)\n",
        "kmeans.fit(X)\n",
        "labels = kmeans.labels_\n",
        "correct_labels = sum(y == labels)\n",
        "print(\"%d de %d \" % (correct_labels, y.size))\n",
        "print('{0:0.2f}'. format(correct_labels/float(y.size)))"
      ],
      "metadata": {
        "colab": {
          "base_uri": "https://localhost:8080/"
        },
        "id": "DQI2-it4ocWi",
        "outputId": "37f6b1ca-213e-4fed-90ee-f80296730741"
      },
      "execution_count": 72,
      "outputs": [
        {
          "output_type": "stream",
          "name": "stdout",
          "text": [
            "120 de 270 \n",
            "0.44\n"
          ]
        }
      ]
    },
    {
      "cell_type": "code",
      "source": [
        "# Cluster = 4\n",
        "kmeans = KMeans(n_clusters=4, random_state=0)\n",
        "kmeans.fit(X)\n",
        "labels = kmeans.labels_\n",
        "correct_labels = sum(y == labels)\n",
        "print(\"%d de %d \" % (correct_labels, y.size))\n",
        "print('{0:0.2f}'. format(correct_labels/float(y.size)))"
      ],
      "metadata": {
        "colab": {
          "base_uri": "https://localhost:8080/"
        },
        "id": "o8yY7me8_ASZ",
        "outputId": "23020acc-cf7e-42ee-d5bd-185fa2a42ffc"
      },
      "execution_count": 73,
      "outputs": [
        {
          "output_type": "stream",
          "name": "stdout",
          "text": [
            "3 de 270 \n",
            "0.01\n"
          ]
        }
      ]
    },
    {
      "cell_type": "code",
      "source": [
        "# Cluster = 7\n",
        "kmeans = KMeans(n_clusters=7, random_state=0)\n",
        "kmeans.fit(X)\n",
        "labels = kmeans.labels_\n",
        "correct_labels = sum(y == labels)\n",
        "print(\"%d de %d \" % (correct_labels, y.size))\n",
        "print('{0:0.2f}'. format(correct_labels/float(y.size)))"
      ],
      "metadata": {
        "colab": {
          "base_uri": "https://localhost:8080/"
        },
        "id": "v2J3yfgd_CST",
        "outputId": "53ffec05-517e-495f-f35d-1f97fc896c34"
      },
      "execution_count": 74,
      "outputs": [
        {
          "output_type": "stream",
          "name": "stdout",
          "text": [
            "112 de 270 \n",
            "0.41\n"
          ]
        }
      ]
    },
    {
      "cell_type": "code",
      "source": [
        "# Cluster = 8\n",
        "kmeans = KMeans(n_clusters=8, random_state=0)\n",
        "kmeans.fit(X)\n",
        "labels = kmeans.labels_\n",
        "correct_labels = sum(y == labels)\n",
        "print(\"%d de %d \" % (correct_labels, y.size))\n",
        "print('{0:0.2f}'. format(correct_labels/float(y.size)))"
      ],
      "metadata": {
        "colab": {
          "base_uri": "https://localhost:8080/"
        },
        "id": "u0xOED9A_Jv8",
        "outputId": "3d563360-38dd-4538-f03c-81dfaed105f2"
      },
      "execution_count": 75,
      "outputs": [
        {
          "output_type": "stream",
          "name": "stdout",
          "text": [
            "83 de 270 \n",
            "0.31\n"
          ]
        }
      ]
    },
    {
      "cell_type": "code",
      "source": [
        "# Cluster = 9\n",
        "kmeans = KMeans(n_clusters=9, random_state=0)\n",
        "kmeans.fit(X)\n",
        "labels = kmeans.labels_\n",
        "correct_labels = sum(y == labels)\n",
        "print(\"%d de %d \" % (correct_labels, y.size))\n",
        "print('{0:0.2f}'. format(correct_labels/float(y.size)))"
      ],
      "metadata": {
        "colab": {
          "base_uri": "https://localhost:8080/"
        },
        "id": "ZmkPmfrA_JIe",
        "outputId": "7ea37fd4-6000-46ad-e281-2239d342fbf8"
      },
      "execution_count": 76,
      "outputs": [
        {
          "output_type": "stream",
          "name": "stdout",
          "text": [
            "103 de 270 \n",
            "0.38\n"
          ]
        }
      ]
    },
    {
      "cell_type": "markdown",
      "source": [
        "Dado los resultados podemos concluir que con una precision del 44% la cantidad de cluster seria de 1."
      ],
      "metadata": {
        "id": "5hNCrSM8_SfN"
      }
    }
  ]
}