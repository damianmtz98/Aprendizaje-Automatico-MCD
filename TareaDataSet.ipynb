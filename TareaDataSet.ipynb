{
  "nbformat": 4,
  "nbformat_minor": 0,
  "metadata": {
    "colab": {
      "provenance": [],
      "authorship_tag": "ABX9TyO02QDqtd23Kklq2oQeksd1",
      "include_colab_link": true
    },
    "kernelspec": {
      "name": "python3",
      "display_name": "Python 3"
    },
    "language_info": {
      "name": "python"
    }
  },
  "cells": [
    {
      "cell_type": "markdown",
      "metadata": {
        "id": "view-in-github",
        "colab_type": "text"
      },
      "source": [
        "<a href=\"https://colab.research.google.com/github/damianmtz98/Aprendizaje-Automatico-MCD/blob/main/TareaDataSet.ipynb\" target=\"_parent\"><img src=\"https://colab.research.google.com/assets/colab-badge.svg\" alt=\"Open In Colab\"/></a>"
      ]
    },
    {
      "cell_type": "markdown",
      "source": [
        "# Tarea Data set\n",
        "\n",
        "La base de datos que elegi, la encontre en Kaggle y se llama \"Predicting Heart Disease Using Clinical Variables\", es un conjunto de datos donde contiene columnas con diferentes pruebas medicas en las que se busca predecir si algun pacciente tendra enfermedades o problemas cardiacos dependiendo los datos arrojados por las pruebas.\n",
        "\n",
        "Las columnas que se incluyen en este conjunto de datos es id, sexo, edad, tipo de dolor en el pecho, BP, colesterol, etc.\n",
        "\n",
        "Link: https://www.kaggle.com/datasets/thedevastator/predicting-heart-disease-risk-using-clinical-var\n",
        "\n"
      ],
      "metadata": {
        "id": "5C5ufS_NPIoV"
      }
    }
  ]
}